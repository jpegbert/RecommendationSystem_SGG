{
 "cells": [
  {
   "cell_type": "markdown",
   "metadata": {},
   "source": [
    "# LFM梯度下降算法实现"
   ]
  },
  {
   "cell_type": "markdown",
   "metadata": {},
   "source": [
    "### 0. 引入依赖"
   ]
  },
  {
   "cell_type": "code",
   "execution_count": 2,
   "metadata": {},
   "outputs": [],
   "source": [
    "import numpy as np\n",
    "import pandas as pd"
   ]
  },
  {
   "cell_type": "markdown",
   "metadata": {},
   "source": [
    "### 1. 数据准备"
   ]
  },
  {
   "cell_type": "code",
   "execution_count": 7,
   "metadata": {},
   "outputs": [
    {
     "data": {
      "text/plain": [
       "5"
      ]
     },
     "execution_count": 7,
     "metadata": {},
     "output_type": "execute_result"
    }
   ],
   "source": [
    "# 评分矩阵R\n",
    "R = np.array([[4,0,2,0,1],\n",
    "             [0,2,3,0,0],\n",
    "             [1,0,2,4,0],\n",
    "             [5,0,0,3,1],\n",
    "             [0,0,1,5,1],\n",
    "             [0,3,2,4,1],])\n",
    "len(R[0])"
   ]
  },
  {
   "cell_type": "markdown",
   "metadata": {},
   "source": [
    "### 2. 算法实现"
   ]
  },
  {
   "cell_type": "code",
   "execution_count": 12,
   "metadata": {},
   "outputs": [],
   "source": [
    "\"\"\"\n",
    "@输入参数：\n",
    "R：M*N 的评分矩阵\n",
    "K：隐特征向量维度\n",
    "max_iter: 最大迭代次数\n",
    "alpha：步长\n",
    "lamda：正则化系数\n",
    "\n",
    "@输出：\n",
    "分解之后的 P，Q\n",
    "P：初始化用户特征矩阵M*K\n",
    "Q：初始化物品特征矩阵N*K\n",
    "\"\"\"\n",
    "\n",
    "# 给定超参数\n",
    "\n",
    "K = 5\n",
    "max_iter = 5000\n",
    "alpha = 0.0002\n",
    "lamda = 0.004\n",
    "\n",
    "# 核心算法\n",
    "def LFM_grad_desc( R, K=2, max_iter=1000, alpha=0.0001, lamda=0.002 ):\n",
    "    # 基本维度参数定义\n",
    "    M = len(R)\n",
    "    N = len(R[0])\n",
    "    \n",
    "    # P,Q初始值，随机生成\n",
    "    P = np.random.rand(M, K)\n",
    "    Q = np.random.rand(N, K)\n",
    "    Q = Q.T\n",
    "    \n",
    "    # 开始迭代\n",
    "    for step in range(max_iter):\n",
    "        # 对所有的用户u、物品i做遍历，对应的特征向量Pu、Qi梯度下降\n",
    "        for u in range(M):\n",
    "            for i in range(N):\n",
    "                # 对于每一个大于0的评分，求出预测评分误差\n",
    "                if R[u][i] > 0:\n",
    "                    eui = np.dot( P[u,:], Q[:,i] ) - R[u][i]\n",
    "                    \n",
    "                    # 代入公式，按照梯度下降算法更新当前的Pu、Qi\n",
    "                    for k in range(K):\n",
    "                        P[u][k] = P[u][k] - alpha * ( 2 * eui * Q[k][i] + 2 * lamda * P[u][k] )\n",
    "                        Q[k][i] = Q[k][i] - alpha * ( 2 * eui * P[u][k] + 2 * lamda * Q[k][i] )\n",
    "        \n",
    "        # u、i遍历完成，所有特征向量更新完成，可以得到P、Q，可以计算预测评分矩阵\n",
    "        predR = np.dot( P, Q )\n",
    "        \n",
    "        # 计算当前损失函数\n",
    "        cost = 0\n",
    "        for u in range(M):\n",
    "            for i in range(N):\n",
    "                if R[u][i] > 0:\n",
    "                    cost += ( np.dot( P[u,:], Q[:,i] ) - R[u][i] ) ** 2\n",
    "                    # 加上正则化项\n",
    "                    for k in range(K):\n",
    "                        cost += lamda * ( P[u][k] ** 2 + Q[k][i] ** 2 )\n",
    "        if cost < 0.0001:\n",
    "            break\n",
    "        \n",
    "    return P, Q.T, cost"
   ]
  },
  {
   "cell_type": "markdown",
   "metadata": {},
   "source": [
    "### 3. 测试"
   ]
  },
  {
   "cell_type": "code",
   "execution_count": 13,
   "metadata": {},
   "outputs": [
    {
     "name": "stdout",
     "output_type": "stream",
     "text": [
      "[[ 0.3830611   0.82850065  0.82023839  0.52119365  1.07831816]\n",
      " [ 0.30047264  1.61805241  0.44803691  0.18957273  0.69562221]\n",
      " [ 0.5089245   1.15974588  0.28690078  1.15027101 -0.37415904]\n",
      " [ 0.32906774  0.80254889  0.99686519  0.22888021  1.54492518]\n",
      " [ 1.33431509  0.33140111  0.74692304  1.149386    0.48054638]\n",
      " [ 0.56541894  0.7369649   1.00561082  0.74870477  1.12564774]]\n",
      "[[ 0.4798044   0.92225918  1.07482479  0.10285196  1.94418819]\n",
      " [ 0.20864097  0.47978933  1.07255543  0.48634109  0.91665161]\n",
      " [-0.15978907  1.57366588  0.46409477  0.18390879  0.29599675]\n",
      " [ 1.49743967  1.06857301  0.64402246  1.7015778   0.39911779]\n",
      " [ 0.32778316  0.45598072 -0.24798659  0.34891638  0.44123607]]\n",
      "0.5421902087209758\n",
      "[[4 0 2 0 1]\n",
      " [0 2 3 0 0]\n",
      " [1 0 2 4 0]\n",
      " [5 0 0 3 1]\n",
      " [0 0 1 5 1]\n",
      " [0 3 2 4 1]]\n"
     ]
    },
    {
     "data": {
      "text/plain": [
       "array([[3.97955851, 2.59909912, 2.03827334, 3.30440379, 0.95757906],\n",
       "       [3.48991137, 2.04939982, 2.94695921, 3.06770057, 1.09826208],\n",
       "       [1.01301061, 1.18678376, 1.97767619, 3.99406951, 0.86074703],\n",
       "       [4.99666771, 3.05037658, 2.17238821, 2.99840935, 0.98813726],\n",
       "       [2.80114856, 2.23799913, 1.00857109, 4.98078217, 1.01632564],\n",
       "       [4.29729537, 2.9460835 , 2.00696893, 4.00506296, 1.02991035]])"
      ]
     },
     "execution_count": 13,
     "metadata": {},
     "output_type": "execute_result"
    }
   ],
   "source": [
    "P, Q, cost = LFM_grad_desc(R, K, max_iter, alpha, lamda)\n",
    "\n",
    "print(P)\n",
    "print(Q)\n",
    "print(cost)\n",
    "\n",
    "predR = P.dot(Q.T)\n",
    "\n",
    "print(R)\n",
    "predR"
   ]
  },
  {
   "cell_type": "code",
   "execution_count": null,
   "metadata": {},
   "outputs": [],
   "source": []
  }
 ],
 "metadata": {
  "kernelspec": {
   "display_name": "Python 3",
   "language": "python",
   "name": "python3"
  },
  "language_info": {
   "codemirror_mode": {
    "name": "ipython",
    "version": 3
   },
   "file_extension": ".py",
   "mimetype": "text/x-python",
   "name": "python",
   "nbconvert_exporter": "python",
   "pygments_lexer": "ipython3",
   "version": "3.7.1"
  }
 },
 "nbformat": 4,
 "nbformat_minor": 2
}
