{
 "cells": [
  {
   "cell_type": "markdown",
   "metadata": {},
   "source": [
    "# 隐语义模型的梯度下降求解"
   ]
  },
  {
   "cell_type": "markdown",
   "metadata": {},
   "source": [
    "### 1.算法实现"
   ]
  },
  {
   "cell_type": "code",
   "execution_count": 1,
   "metadata": {},
   "outputs": [],
   "source": [
    "import numpy as np\n",
    "\n",
    "\"\"\"\n",
    "@输入参数：\n",
    "R：M*N 的评分矩阵\n",
    "P：初始化用户特征矩阵M*K\n",
    "Q：初始化物品特征矩阵N*K\n",
    "K：隐特征向量个数\n",
    "steps: 最大迭代次数\n",
    "alpha：步长\n",
    "lamda：正则化系数\n",
    "\n",
    "@输出：\n",
    "分解之后的 P，Q\n",
    "\"\"\"\n",
    "\n",
    "def LFM_grad_desc(R, K=5, steps=3000, alpha=0.0002, lamda=0.004):\n",
    "    M = len(R)\n",
    "    N = len(R[0])\n",
    "    P = np.random.rand(M,K)\n",
    "    Q = np.random.rand(N,K)\n",
    "    Q = Q.T\n",
    "    \n",
    "    for step in range(steps):\n",
    "        for i in range(M):\n",
    "            for j in range(N):\n",
    "                # 如果评分大于0，表示有评分，才考虑误差\n",
    "                if R[i][j] > 0:\n",
    "                    eij = R[i][j] - np.dot(P[i,:],Q[:,j])\n",
    "                    for k in range(K):\n",
    "                        P[i][k] = P[i][k] + alpha * (2 * eij * Q[k][j] - 2 * lamda * P[i][k])\n",
    "                        Q[k][j] = Q[k][j] + alpha * (2 * eij * P[i][k] - 2 * lamda * Q[k][j])\n",
    "\n",
    "        # 根据更新之后的P、Q计算预测评分矩阵\n",
    "        eR = np.dot(P,Q)\n",
    "        # 计算当前损失函数\n",
    "        e = 0\n",
    "        for i in range(M):\n",
    "            for j in range(N):\n",
    "                if R[i][j] > 0:\n",
    "                    e += (R[i][j]-np.dot(P[i,:],Q[:,j]))**2\n",
    "                    for k in range(K):\n",
    "                        e += lamda * (P[i][k]**2 + Q[k][j]**2)\n",
    "        \n",
    "        if e < 0.001:\n",
    "            break\n",
    "    return P, Q.T"
   ]
  },
  {
   "cell_type": "markdown",
   "metadata": {},
   "source": [
    "### 2. 测试"
   ]
  },
  {
   "cell_type": "code",
   "execution_count": 2,
   "metadata": {},
   "outputs": [
    {
     "data": {
      "text/plain": [
       "array([[1, 0, 1, 0, 0],\n",
       "       [0, 1, 0, 0, 1],\n",
       "       [1, 0, 0, 1, 0],\n",
       "       [0, 0, 1, 0, 0]])"
      ]
     },
     "execution_count": 2,
     "metadata": {},
     "output_type": "execute_result"
    }
   ],
   "source": [
    "R = np.array([[1,0,1,0,0],\n",
    "              [0,1,0,0,1],\n",
    "              [1,0,0,1,0],\n",
    "              [0,0,1,0,0]])\n",
    "\n",
    "nP,nQ = LFM_grad_desc(R)\n",
    "R"
   ]
  },
  {
   "cell_type": "code",
   "execution_count": 3,
   "metadata": {},
   "outputs": [
    {
     "data": {
      "text/plain": [
       "array([[ 0.50311048,  0.05239142,  0.24035048,  0.50700976,  0.84604579],\n",
       "       [ 0.4520918 ,  0.55031755,  0.16702293,  0.43009092,  0.43510134],\n",
       "       [ 0.80963002,  0.67483735, -0.02276877,  0.13554483,  0.58686876],\n",
       "       [-0.03172492,  0.08522673,  0.70447701,  0.93767401,  0.51510986]])"
      ]
     },
     "execution_count": 3,
     "metadata": {},
     "output_type": "execute_result"
    }
   ],
   "source": [
    "nP"
   ]
  },
  {
   "cell_type": "code",
   "execution_count": 4,
   "metadata": {},
   "outputs": [
    {
     "data": {
      "text/plain": [
       "array([[ 0.80109863,  0.37586522,  0.22253029,  0.93493388,  0.00613874],\n",
       "       [ 0.62554376,  0.64351082,  0.65746485, -0.10735559,  0.70939905],\n",
       "       [ 0.66575038,  0.78335971,  0.55916805,  0.38032163,  0.38000131],\n",
       "       [ 0.2109632 ,  0.77082578,  0.72928972,  0.2008151 ,  0.48868868],\n",
       "       [ 0.41616602,  0.37588594,  0.65221724,  0.52557314,  0.62069836]])"
      ]
     },
     "execution_count": 4,
     "metadata": {},
     "output_type": "execute_result"
    }
   ],
   "source": [
    "nQ"
   ]
  },
  {
   "cell_type": "code",
   "execution_count": 5,
   "metadata": {},
   "outputs": [
    {
     "data": {
      "text/plain": [
       "array([[0.95543275, 1.0522078 , 1.02470892, 0.8370758 , 1.17744136],\n",
       "       [1.01096055, 1.00923802, 1.15438272, 0.94037963, 1.00004803],\n",
       "       [1.02750274, 1.32752713, 1.32948184, 0.9883947 , 1.01125939],\n",
       "       [1.04321177, 0.76292177, 0.99192348, 1.01279747, 1.29084888]])"
      ]
     },
     "execution_count": 5,
     "metadata": {},
     "output_type": "execute_result"
    }
   ],
   "source": [
    "nP.dot(nQ.T)"
   ]
  },
  {
   "cell_type": "code",
   "execution_count": null,
   "metadata": {},
   "outputs": [],
   "source": []
  }
 ],
 "metadata": {
  "kernelspec": {
   "display_name": "Python 3",
   "language": "python",
   "name": "python3"
  },
  "language_info": {
   "codemirror_mode": {
    "name": "ipython",
    "version": 3
   },
   "file_extension": ".py",
   "mimetype": "text/x-python",
   "name": "python",
   "nbconvert_exporter": "python",
   "pygments_lexer": "ipython3",
   "version": "3.7.1"
  }
 },
 "nbformat": 4,
 "nbformat_minor": 2
}
