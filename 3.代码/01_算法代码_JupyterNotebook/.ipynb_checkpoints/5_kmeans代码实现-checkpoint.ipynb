{
 "cells": [
  {
   "cell_type": "markdown",
   "metadata": {},
   "source": [
    "# k means教程"
   ]
  },
  {
   "cell_type": "markdown",
   "metadata": {},
   "source": [
    "### 0. 引入依赖"
   ]
  },
  {
   "cell_type": "code",
   "execution_count": 2,
   "metadata": {},
   "outputs": [],
   "source": [
    "import numpy as np\n",
    "import matplotlib.pyplot as plt\n",
    "\n",
    "# 从sklearn中直接生成聚类数据\n",
    "from sklearn.datasets.samples_generator import make_blobs"
   ]
  },
  {
   "cell_type": "markdown",
   "metadata": {},
   "source": [
    "### 1. 数据加载"
   ]
  },
  {
   "cell_type": "code",
   "execution_count": 3,
   "metadata": {},
   "outputs": [
    {
     "data": {
      "image/png": "[encoded data removed]",
      "text/plain": [
       "<Figure size 432x432 with 1 Axes>"
      ]
     },
     "metadata": {
      "needs_background": "light"
     },
     "output_type": "display_data"
    }
   ],
   "source": [
    "x, y = make_blobs( n_samples=100, centers=6, random_state=1234, cluster_std=0.6 )\n",
    "\n",
    "plt.figure(figsize=(6,6))\n",
    "plt.scatter(x[:,0], x[:,1], c=y)\n",
    "plt.show()"
   ]
  },
  {
   "cell_type": "markdown",
   "metadata": {},
   "source": [
    "### 2. 算法实现"
   ]
  },
  {
   "cell_type": "code",
   "execution_count": 4,
   "metadata": {},
   "outputs": [
    {
     "name": "stdout",
     "output_type": "stream",
     "text": [
      "[2 1 2 0 3]\n",
      "[[-0.02708305  5.0215929 ]\n",
      " [-5.49252256  6.27366991]\n",
      " [-5.37691608  1.51403209]\n",
      " [-5.37872006  2.16059225]\n",
      " [ 9.58333171  8.10916554]]\n",
      "[ True False  True False False]\n",
      "[[-0.02708305  5.0215929 ]\n",
      " [-5.37691608  1.51403209]]\n"
     ]
    },
    {
     "data": {
      "text/plain": [
       "array([-2.70199956,  3.26781249])"
      ]
     },
     "execution_count": 4,
     "metadata": {},
     "output_type": "execute_result"
    }
   ],
   "source": [
    "# 引入scipy中的距离函数，默认欧式距离\n",
    "from scipy.spatial.distance import cdist\n",
    "\n",
    "class K_Means(object):\n",
    "    # 初始化，参数 n_clusters（K）、迭代次数max_iter、初始质心 centroids\n",
    "    def __init__(self, n_clusters=6, max_iter=300, centroids=[]):\n",
    "        self.n_clusters = n_clusters\n",
    "        self.max_iter = max_iter\n",
    "        self.centroids = np.array( centroids, dtype=np.float )\n",
    "        \n",
    "    # 训练模型方法，k-means聚类过程，传入原始数据\n",
    "    def fit(self, data):\n",
    "        # 假如没有指定初始质心，就随机选取data中的点作为初始质心\n",
    "        if( self.centroids.shape == (0,) ):\n",
    "            # 从data中随机生成0到data行数的6个整数，作为索引值\n",
    "            self.centroids = data[ np.random.randint( 0, data.shape[0], self.n_clusters ) ,: ]\n",
    "            \n",
    "        # 开始迭代\n",
    "        for i in range(self.max_iter):\n",
    "            # 1. 计算距离矩阵，得到的是一个100*6的矩阵\n",
    "            distances = cdist(data, self.centroids)\n",
    "            \n",
    "            # 2. 对距离按有近到远排序，选取最近的质心点的类别，作为当前点的分类\n",
    "            c_ind = np.argmin( distances, axis=1 )\n",
    "            \n",
    "            # 3. 对每一类数据进行均值计算，更新质心点坐标\n",
    "            for i in range(self.n_clusters):\n",
    "                # 排除掉没有出现在c_ind里的类别\n",
    "                if i in c_ind:\n",
    "                    # 选出所有类别是i的点，取data里面坐标的均值，更新第i个质心\n",
    "                    self.centroids[i] = np.mean( data[c_ind==i], axis=0 )\n",
    "    \n",
    "    # 实现预测方法\n",
    "    def predict(self, samples):\n",
    "        # 跟上面一样，先计算距离矩阵，然后选取距离最近的那个质心的类别\n",
    "        distances = cdist(samples, self.centroids)\n",
    "        c_ind = np.argmin( distances, axis=1 )\n",
    "        \n",
    "        return c_ind\n",
    "\n",
    "dist = np.array([[121,221,32,43],\n",
    "                [121,1,12,23],\n",
    "                [65,21,2,43],\n",
    "                [1,221,32,43],\n",
    "                [21,11,22,3],])\n",
    "c_ind = np.argmin( dist, axis=1 )\n",
    "print(c_ind)\n",
    "x_new=x[0:5]\n",
    "print(x_new)\n",
    "print(c_ind==2)\n",
    "print(x_new[c_ind==2])\n",
    "np.mean(x_new[c_ind==2], axis=0)"
   ]
  },
  {
   "cell_type": "markdown",
   "metadata": {},
   "source": [
    "### 3. 测试"
   ]
  },
  {
   "cell_type": "code",
   "execution_count": 9,
   "metadata": {},
   "outputs": [
    {
     "ename": "SyntaxError",
     "evalue": "invalid syntax (<ipython-input-9-dada66015acf>, line 7)",
     "output_type": "error",
     "traceback": [
      "\u001b[1;36m  File \u001b[1;32m\"<ipython-input-9-dada66015acf>\"\u001b[1;36m, line \u001b[1;32m7\u001b[0m\n\u001b[1;33m    plt.scatter(centroids[:,0], centroids[:,1], c='r',np.array(range(5))'', s=100)\u001b[0m\n\u001b[1;37m                                                                         ^\u001b[0m\n\u001b[1;31mSyntaxError\u001b[0m\u001b[1;31m:\u001b[0m invalid syntax\n"
     ]
    }
   ],
   "source": [
    "# 定义一个绘制子图函数\n",
    "def plotKMeans(x, y, centroids, subplot, title):\n",
    "    # 分配子图，121表示1行2列的子图中的第一个\n",
    "    plt.subplot(subplot)\n",
    "    plt.scatter(x[:,0], x[:,1], c='r')\n",
    "    # 画出质心点\n",
    "    plt.scatter(centroids[:,0], centroids[:,1], c='r', s=100)\n",
    "    plt.title(title)\n",
    "\n",
    "kmeans = K_Means(n_clusters=5, max_iter=300)\n",
    "\n",
    "plt.figure(figsize=(16, 6))\n",
    "plotKMeans( x, y, kmeans.centroids, 121, 'Initial State' )\n",
    "\n",
    "# 开始聚类\n",
    "kmeans.fit(x)\n",
    "\n",
    "plotKMeans( x, y, kmeans.centroids, 122, 'Final State' )\n",
    "\n",
    "# 预测新数据点的类别\n",
    "x_new = np.array([[0,0],[10,7]])\n",
    "y_pred = kmeans.predict(x_new)\n",
    "\n",
    "print(kmeans.centroids)\n",
    "print(y_pred)\n",
    "\n",
    "plt.scatter(x_new[:,0], x_new[:,1], s=100, c='black')"
   ]
  },
  {
   "cell_type": "code",
   "execution_count": null,
   "metadata": {},
   "outputs": [],
   "source": [
    "\n"
   ]
  }
 ],
 "metadata": {
  "kernelspec": {
   "display_name": "Python 3",
   "language": "python",
   "name": "python3"
  },
  "language_info": {
   "codemirror_mode": {
    "name": "ipython",
    "version": 3
   },
   "file_extension": ".py",
   "mimetype": "text/x-python",
   "name": "python",
   "nbconvert_exporter": "python",
   "pygments_lexer": "ipython3",
   "version": "3.7.1"
  }
 },
 "nbformat": 4,
 "nbformat_minor": 2
}
